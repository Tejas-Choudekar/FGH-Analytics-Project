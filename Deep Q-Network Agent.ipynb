{
 "cells": [
  {
   "cell_type": "code",
   "execution_count": 8,
   "id": "27528734",
   "metadata": {},
   "outputs": [],
   "source": [
    "import grid2op\n",
    "from l2rpn_baselines.DeepQSimple import train\n",
    "from grid2op.Reward import L2RPNReward\n",
    "from l2rpn_baselines.utils import TrainingParam, NNParam\n",
    "from l2rpn_baselines.DeepQSimple import evaluate"
   ]
  },
  {
   "cell_type": "code",
   "execution_count": 6,
   "id": "0a795a15",
   "metadata": {},
   "outputs": [
    {
     "name": "stderr",
     "output_type": "stream",
     "text": [
      "  2%|█▋                                                                                | 2/100 [00:00<00:20,  4.72it/s]"
     ]
    },
    {
     "name": "stdout",
     "output_type": "stream",
     "text": [
      "hardest scenarios\n",
      "[999 328 341 340 339 338 337 336 335 334]\n",
      "They have been chosen respectively\n",
      "[0 0 0 0 0 0 0 0 0 0]\n",
      "The number of timesteps played is\n",
      "[0 0 0 0 0 0 0 0 0 0]\n",
      "avg (accross all scenarios) number of timsteps played 0.0\n",
      "Time alive: [0. 0. 0. 0. 0. 0. 0. 0. 0. 0.]\n",
      "Avg time alive: 0.0\n"
     ]
    },
    {
     "name": "stderr",
     "output_type": "stream",
     "text": [
      "100%|████████████████████████████████████████████████████████████████████████████████| 100/100 [00:06<00:00, 16.19it/s]\n"
     ]
    }
   ],
   "source": [
    "env = grid2op.make(\"rte_case14_realistic\", reward_class=L2RPNReward)\n",
    "tp = TrainingParam()\n",
    "\n",
    "li_attr_obs_X = [\"day_of_week\", \"hour_of_day\", \"minute_of_hour\", \"prod_p\", \"prod_v\", \"load_p\", \"load_q\",\n",
    "                         \"actual_dispatch\", \"target_dispatch\", \"topo_vect\", \"time_before_cooldown_line\",\n",
    "                         \"time_before_cooldown_sub\", \"rho\", \"timestep_overflow\", \"line_status\"]\n",
    "\n",
    "observation_size = NNParam.get_obs_size(env, li_attr_obs_X)\n",
    "sizes = [800, 800, 800, 494, 494, 494]  # sizes of each hidden layers\n",
    "kwargs_archi = {'observation_size': observation_size,\n",
    "                        'sizes': sizes,\n",
    "                        'activs': [\"relu\" for _ in sizes],  # all relu activation function\n",
    "                        \"list_attr_obs\": li_attr_obs_X}\n",
    "\n",
    "kwargs_converters = {\"all_actions\": None,\n",
    "                             \"set_line_status\": False,\n",
    "                             \"change_bus_vect\": True,\n",
    "                             \"set_topo_vect\": False\n",
    "                             }\n",
    "# define the name of the model\n",
    "nm_ = \"DeepQ_Agent\"\n",
    "try:\n",
    "    train(env,\n",
    "          name=nm_,\n",
    "          iterations=100,\n",
    "          save_path=\"/DQN_Agent/model\",\n",
    "          load_path=None,\n",
    "          logs_dir=\"/DQN_Agent/logs\",\n",
    "          training_param=tp,\n",
    "          kwargs_converters=kwargs_converters,\n",
    "          kwargs_archi=kwargs_archi)\n",
    "finally:\n",
    "    env.close()"
   ]
  },
  {
   "cell_type": "code",
   "execution_count": 12,
   "id": "43c0c0bd",
   "metadata": {},
   "outputs": [
    {
     "data": {
      "text/plain": [
       "(<l2rpn_baselines.DeepQSimple.deepQSimple.DeepQSimple at 0x237f432cfd0>,\n",
       " [('C:\\\\Users\\\\tejus_\\\\data_grid2op\\\\rte_case14_realistic\\\\chronics\\\\000',\n",
       "   '000',\n",
       "   199.1875,\n",
       "   14,\n",
       "   8064),\n",
       "  ('C:\\\\Users\\\\tejus_\\\\data_grid2op\\\\rte_case14_realistic\\\\chronics\\\\001',\n",
       "   '001',\n",
       "   6409.92919921875,\n",
       "   386,\n",
       "   8064),\n",
       "  ('C:\\\\Users\\\\tejus_\\\\data_grid2op\\\\rte_case14_realistic\\\\chronics\\\\002',\n",
       "   '002',\n",
       "   7211.33349609375,\n",
       "   433,\n",
       "   8064),\n",
       "  ('C:\\\\Users\\\\tejus_\\\\data_grid2op\\\\rte_case14_realistic\\\\chronics\\\\003',\n",
       "   '003',\n",
       "   6344.0341796875,\n",
       "   386,\n",
       "   8064),\n",
       "  ('C:\\\\Users\\\\tejus_\\\\data_grid2op\\\\rte_case14_realistic\\\\chronics\\\\004',\n",
       "   '004',\n",
       "   1916.7158203125,\n",
       "   122,\n",
       "   8064),\n",
       "  ('C:\\\\Users\\\\tejus_\\\\data_grid2op\\\\rte_case14_realistic\\\\chronics\\\\005',\n",
       "   '005',\n",
       "   3720.830810546875,\n",
       "   234,\n",
       "   8064),\n",
       "  ('C:\\\\Users\\\\tejus_\\\\data_grid2op\\\\rte_case14_realistic\\\\chronics\\\\006',\n",
       "   '006',\n",
       "   4000.859375,\n",
       "   234,\n",
       "   8064),\n",
       "  ('C:\\\\Users\\\\tejus_\\\\data_grid2op\\\\rte_case14_realistic\\\\chronics\\\\007',\n",
       "   '007',\n",
       "   140.23155212402344,\n",
       "   10,\n",
       "   8064),\n",
       "  ('C:\\\\Users\\\\tejus_\\\\data_grid2op\\\\rte_case14_realistic\\\\chronics\\\\008',\n",
       "   '008',\n",
       "   6349.09130859375,\n",
       "   382,\n",
       "   8064),\n",
       "  ('C:\\\\Users\\\\tejus_\\\\data_grid2op\\\\rte_case14_realistic\\\\chronics\\\\009',\n",
       "   '009',\n",
       "   5498.54443359375,\n",
       "   336,\n",
       "   8064)])"
      ]
     },
     "execution_count": 12,
     "metadata": {},
     "output_type": "execute_result"
    }
   ],
   "source": [
    "env = grid2op.make(\"rte_case14_realistic\", reward_class=L2RPNReward)\n",
    "evaluate(env,\n",
    "         name=\"DeepQ_Agent\",\n",
    "         load_path=\"/DQN_Agent/model\",\n",
    "         logs_path=\"/DQN_Agent/logs\",\n",
    "         nb_episode=10,\n",
    "         nb_process=1,\n",
    "         max_steps=-1,\n",
    "         verbose=False,\n",
    "         save_gif=False)"
   ]
  },
  {
   "cell_type": "code",
   "execution_count": null,
   "id": "0693e2a6",
   "metadata": {},
   "outputs": [],
   "source": []
  }
 ],
 "metadata": {
  "kernelspec": {
   "display_name": "Python 3",
   "language": "python",
   "name": "python3"
  },
  "language_info": {
   "codemirror_mode": {
    "name": "ipython",
    "version": 3
   },
   "file_extension": ".py",
   "mimetype": "text/x-python",
   "name": "python",
   "nbconvert_exporter": "python",
   "pygments_lexer": "ipython3",
   "version": "3.8.8"
  }
 },
 "nbformat": 4,
 "nbformat_minor": 5
}
